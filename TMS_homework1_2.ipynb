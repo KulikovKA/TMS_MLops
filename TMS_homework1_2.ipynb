{
 "cells": [
  {
   "cell_type": "code",
   "execution_count": 54,
   "id": "be61b031",
   "metadata": {},
   "outputs": [
    {
     "name": "stdout",
     "output_type": "stream",
     "text": [
      "3.723082010153341\n"
     ]
    }
   ],
   "source": [
    "import numpy as np \n",
    "\n",
    "x=1.79\n",
    "#y=((np.cos(x))**np.e+np.log((1+x)**2)+np.sqrt(np.e**np.cos(x)+np.sin(np.pi*x)**2)+np.sqrt((1/x))+np.cos(x**2))**np.sin(x)\n",
    "part1=np.cos(np.e**x)\n",
    "part2=np.log((1+x)**2)\n",
    "part3=np.sqrt(np.e**np.cos(x)+np.sin(np.pi*x)**2)\n",
    "part4=np.sqrt((1/x))+np.cos(x**2)\n",
    "solution=(part1+part2+part3+part4)**np.sin(x)\n",
    "print(solution)\n"
   ]
  },
  {
   "cell_type": "code",
   "execution_count": 55,
   "id": "8d05a910",
   "metadata": {},
   "outputs": [
    {
     "name": "stdout",
     "output_type": "stream",
     "text": [
      "Есть контакт!\n",
      "Мимо!\n"
     ]
    }
   ],
   "source": [
    "str='Шла саша по шоссе и сосала сушку'\n",
    "substr1='ЛА'\n",
    "substr2='ssd'\n",
    "def search_substr(subst,st):\n",
    "    subst=subst.lower()\n",
    "    st=st.lower()\n",
    "    if subst in st:\n",
    "        return \"Есть контакт!\"\n",
    "    else:\n",
    "        return \"Мимо!\"\n",
    "print(search_substr(substr1,str))\n",
    "print(search_substr(substr2,str))"
   ]
  },
  {
   "cell_type": "code",
   "execution_count": 56,
   "id": "36c9164f",
   "metadata": {},
   "outputs": [
    {
     "name": "stdout",
     "output_type": "stream",
     "text": [
      "[('7', 6), ('5', 5), ('1', 4)]\n"
     ]
    }
   ],
   "source": [
    "from collections import Counter\n",
    "\n",
    "arr='1 1 1 1 2 3 4 4 4 4 5 5 5 5 5 6 6 6 7 7 7 7 7 7 '\n",
    "def top_max_3(arr):\n",
    "    arr=arr.split(' ')\n",
    "    dictionary=dict(Counter(arr))\n",
    "    sorted_dictionary=sorted(dictionary.items(),key=lambda x : x[1],reverse=True)\n",
    "    return sorted_dictionary[:3]\n",
    "    \n",
    "        \n",
    "print(top_max_3(arr))\n"
   ]
  },
  {
   "cell_type": "code",
   "execution_count": 70,
   "id": "70f28e3f",
   "metadata": {},
   "outputs": [
    {
     "name": "stdout",
     "output_type": "stream",
     "text": [
      "[('9', 9), ('8', 8), ('7', 7)]\n"
     ]
    }
   ],
   "source": [
    "str='0000112334567897424540435442'\n",
    "str_1='0 1 2 2 3 3 3 4 4 4 5 5 5 5 5 6 6 6 6 6 6 7 7 7 7 7 7 7' \\\n",
    "'8 8 8 8 8 8 8 8 9 9 9 9 9 9 9 9 9'\n",
    "def count_it(sequence):\n",
    "    digits=['0','1','2','3','4','5','6','7','8','9']\n",
    "    answ={}\n",
    "    for digit in digits:\n",
    "        answ[digit]=sequence.count(digit)\n",
    "    return sorted(answ.items(),key=lambda x : x[1],reverse=True )[:3]\n",
    "print(count_it(str_1) )"
   ]
  },
  {
   "cell_type": "code",
   "execution_count": 35,
   "id": "dbf8bd8a",
   "metadata": {},
   "outputs": [
    {
     "name": "stdout",
     "output_type": "stream",
     "text": [
      "Введите числовые значения\n",
      "Ваши координаты (4, 6)\n",
      "Ошибка: введите числовые значения!\n",
      "Ошибка: введите числовые значения!\n",
      "Координаты  соперника(4, 4)\n",
      "Выберите фигуру:\n",
      "1 - ферзь\n",
      "2 - конь\n",
      "Введите числовые значения\n",
      "Введите числовые значения\n",
      "Угроза ферзем!\n"
     ]
    }
   ],
   "source": [
    "def queen(lst_my,lst_enemy): \n",
    "    if lst_my[1]==lst_enemy[1] and lst_my[0]!=lst_enemy[0]:# горизонталь\n",
    "        return(\"Угроза\")\n",
    "    elif lst_my[0]==lst_enemy[0] and lst_my[1]!=lst_enemy[1] :# вертикаль\n",
    "        return('Угроза ферзем!')\n",
    "    elif  abs(lst_my[0]-lst_enemy[0])==abs(lst_my[1]-lst_enemy[1]):# диагональ\n",
    "        return('Угроза ферзем!')  \n",
    "    else:\n",
    "        return('Угрозы нет')\n",
    "    \n",
    "def horse(lst_my,lst_enemy):  \n",
    "    if lst_my[0]==lst_enemy[0]-1 and lst_my[1]==lst_enemy[1]+2: # вверх и влево\n",
    "        return(\"Угроза конем!\")\n",
    "    elif lst_my[0]==lst_enemy[0]+1 and lst_my[1]==lst_enemy[1]+2: # вверх и вправо\n",
    "        return(\"Угроза конем!\")\n",
    "    elif lst_my[0]==lst_enemy[0]-1 and lst_my[1]==lst_enemy[1]-2: # вниз и влево\n",
    "        return(\"Угроза конем!\")\n",
    "    elif lst_my[0]==lst_enemy[0]+1 and lst_my[1]==lst_enemy[1]-2: # вниз и вправо\n",
    "        return(\"Угроза конем!\")\n",
    "    elif lst_my[0]==lst_enemy[0]-2 and lst_my[1]==lst_enemy[1]+1: # влево и вверх\n",
    "        return(\"Угроза конем!\")\n",
    "    elif lst_my[0]==lst_enemy[0]-2 and lst_my[1]==lst_enemy[1]-1: # влево и вниз\n",
    "        return(\"Угроза конем!\")\n",
    "    elif lst_my[0]==lst_enemy[0]+2 and lst_my[1]==lst_enemy[1]+1: # вправо и вверх\n",
    "        return(\"Угроза конем!\")\n",
    "    elif lst_my[0]==lst_enemy[0]+2 and lst_my[1]==lst_enemy[1]-1: # вправо и вниз\n",
    "        return(\"Угроза конем!\")\n",
    "    else:\n",
    "        return(\"Угрозы нет\")  \n",
    "\n",
    "def chess():\n",
    "    lst_my=[]\n",
    "    lst_enemy=[]\n",
    "    while True:\n",
    "        try:\n",
    "            a = int(input(\"Введите вашу координату a: \"))\n",
    "            b = int(input(\"Введите вашу координату b: \"))\n",
    "            \n",
    "            if a < 1 or a > 8 or b < 1 or b > 8:\n",
    "                print(\"Координата должна быть в диапазоне от 1 до 8\")\n",
    "                continue\n",
    "                \n",
    "            print(f\"Ваши координаты {(a, b)}\")\n",
    "            lst_my.append(a)\n",
    "            lst_my.append(b)\n",
    "            break\n",
    "            \n",
    "        except ValueError:\n",
    "            \n",
    "            print(\"Введите числовые значения\")\n",
    "            continue\n",
    "\n",
    "    while True:\n",
    "        try:\n",
    "            c = int(input(\"Введите вашу координату c: \"))\n",
    "            d = int(input(\"Введите вашу координату d: \"))\n",
    "            \n",
    "            if c < 1 or c > 8 or d < 1 or d > 8:\n",
    "                print(\"Координата должна быть в диапазоне от 1 до 8\")\n",
    "                continue\n",
    "            if (c, d) == (a, b):\n",
    "                print(\"Координаты соперника не могут совпадать с вашими!\")\n",
    "                continue\n",
    "\n",
    "            print(f\"Координаты  соперника{(c, d)}\")\n",
    "            lst_enemy.append(c)\n",
    "            lst_enemy.append(d)\n",
    "            break\n",
    "           \n",
    "            \n",
    "        except ValueError:\n",
    "            \n",
    "            print(\"Ошибка: введите числовые значения!\")\n",
    "            continue\n",
    "    \n",
    "    print(\"Выберите фигуру:\\n1 - ферзь\\n2 - конь\")\n",
    "    while True:    \n",
    "        try:\n",
    "            choice=int(input())\n",
    "            if choice>2 or choice<1:\n",
    "                print(\"Введите либо 1, либо 2\")\n",
    "                continue\n",
    "            break\n",
    "        except ValueError:\n",
    "            print(\"Введите числовые значения\")\n",
    "            continue\n",
    "    if choice==1:\n",
    "        print(queen(lst_my,lst_enemy))\n",
    "    else:\n",
    "        print(horse(lst_my,lst_enemy))\n",
    "    \n",
    "chess()"
   ]
  },
  {
   "cell_type": "code",
   "execution_count": 92,
   "id": "f94a5ca7",
   "metadata": {},
   "outputs": [
    {
     "name": "stdout",
     "output_type": "stream",
     "text": [
      "Ваши координаты (4, 3)\n",
      "Координаты  соперника(5, 6)\n",
      "Угроза фигуре врага!\n"
     ]
    }
   ],
   "source": [
    "def horse(lst_my,lst_enemy):\n",
    "    \n",
    "    lst_my=[]\n",
    "    lst_enemy=[]\n",
    "    while True:\n",
    "        try:\n",
    "            a = int(input(\"Введите вашу координату a: \"))\n",
    "            b = int(input(\"Введите вашу координату b: \"))\n",
    "            \n",
    "            if a < 1 or a > 8 or b < 1 or b > 8:\n",
    "                print(\"Координата должна быть в диапазоне от 1 до 8\")\n",
    "                continue\n",
    "                \n",
    "            print(f\"Ваши координаты {(a, b)}\")\n",
    "            lst_my.append(a)\n",
    "            lst_my.append(b)\n",
    "            break\n",
    "            \n",
    "        except ValueError:\n",
    "            \n",
    "            print(\"Введите числовые значения\")\n",
    "            continue\n",
    "\n",
    "    while True:\n",
    "        try:\n",
    "            c = int(input(\"Введите вашу координату c: \"))\n",
    "            d = int(input(\"Введите вашу координату d: \"))\n",
    "            \n",
    "            if c < 1 or c > 8 or d < 1 or d > 8:\n",
    "                print(\"Координата должна быть в диапазоне от 1 до 8\")\n",
    "                continue\n",
    "            if (c, d) == (a, b):\n",
    "                print(\"Координаты соперника не могут совпадать с вашими!\")\n",
    "                continue\n",
    "\n",
    "            print(f\"Координаты  соперника{(c, d)}\")\n",
    "            lst_enemy.append(c)\n",
    "            lst_enemy.append(d)\n",
    "            break\n",
    "           \n",
    "            \n",
    "        except ValueError:\n",
    "            \n",
    "            print(\"Ошибка: введите числовые значения!\")\n",
    "            continue\n",
    "\n",
    "    moves=[(lst_my[0]-1,lst_my[1]+2),(lst_my[0]+1,lst_my[1]+2),\n",
    "           (lst_my[0]-2,lst_my[1]-1),(lst_my[0]-2,lst_my[1]+1),\n",
    "           (lst_my[0]-1,lst_my[1]-2),(lst_my[0]+1,lst_my[1]-2),\n",
    "           (lst_my[0]+2,lst_my[1]-1),(lst_my[0]+2,lst_my[1]+1)]\n",
    "    coord_second=[]\n",
    "    \n",
    "    for i,j in moves:\n",
    "        if 0<i<9 and 0<j<9 and i==lst_enemy[0]  and j==lst_enemy[1]:  \n",
    "            return \"Угроза фигуре врага!\"\n",
    "    for i,j in moves:\n",
    "        if 0<i<9 and 0<j<9 and (i!=lst_enemy[0]  or j!=lst_enemy[1]):\n",
    "            coord_second.append((i,j))\n",
    "    for k,z in coord_second:\n",
    "        moves_second=[(k-1,z+2),(k+1,z+2),\n",
    "           (k-2,z-1),(k-2,z+1),\n",
    "           (k-1,z-2),(k+1,z-2),\n",
    "           (k+2,z-1),(k+2,z+1)]\n",
    "        for x,y in moves_second: \n",
    "            if  0<x<9 and 0<y<9 and x==lst_enemy[0]  and y==lst_enemy[1]:\n",
    "                return \"Угроза фигуре врага!\"\n",
    "        \n",
    "    return \"Угрозы нет :(\"        \n",
    "print(horse([1,1],[2,4]))\n"
   ]
  }
 ],
 "metadata": {
  "kernelspec": {
   "display_name": "ML_TMS_test",
   "language": "python",
   "name": "python3"
  },
  "language_info": {
   "codemirror_mode": {
    "name": "ipython",
    "version": 3
   },
   "file_extension": ".py",
   "mimetype": "text/x-python",
   "name": "python",
   "nbconvert_exporter": "python",
   "pygments_lexer": "ipython3",
   "version": "3.13.5"
  }
 },
 "nbformat": 4,
 "nbformat_minor": 5
}
