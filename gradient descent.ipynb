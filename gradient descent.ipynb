{
 "cells": [
  {
   "cell_type": "code",
   "execution_count": 2,
   "id": "3dba9158",
   "metadata": {},
   "outputs": [],
   "source": [
    "import pandas as pd\n",
    "from sklearn.linear_model import LinearRegression\n",
    "from sklearn.metrics import mean_squared_error\n",
    "import random as rnd"
   ]
  },
  {
   "cell_type": "code",
   "execution_count": 3,
   "id": "81c33417",
   "metadata": {},
   "outputs": [],
   "source": [
    "column_names = ['CRIM', 'ZN', 'INDUS', 'CHAS', 'NOX', 'RM', 'AGE', 'DIS', 'RAD', 'TAX', 'PTRATIO', 'B', 'LSTAT', 'MEDV']\n",
    "df=pd.read_csv(\"C:\\\\Users\\\\kiril\\\\Downloads\\\\housing (1).csv\",header=None,delimiter=r\"\\s+\",names=column_names)\n",
    "X=df.drop(['MEDV'],axis=1)\n",
    "y=df[\"MEDV\"]"
   ]
  },
  {
   "cell_type": "code",
   "execution_count": null,
   "id": "41e6e17d",
   "metadata": {},
   "outputs": [
    {
     "name": "stdout",
     "output_type": "stream",
     "text": [
      "R^20.7406426641094095\n",
      "Коэффиценты : [-1.08011358e-01  4.64204584e-02  2.05586264e-02  2.68673382e+00\n",
      " -1.77666112e+01  3.80986521e+00  6.92224640e-04 -1.47556685e+00\n",
      "  3.06049479e-01 -1.23345939e-02 -9.52747232e-01  9.31168327e-03\n",
      " -5.24758378e-01]\n",
      "MSE: 21.8948\n"
     ]
    }
   ],
   "source": [
    "reg=LinearRegression().fit(X,y)\n",
    "print(f'Коэффиценты : {reg.coef_}')\n",
    "y_pred = reg.predict(X)\n",
    "mse = mean_squared_error(y, y_pred)\n",
    "print(f\"MSE: {mse:.4f}\")"
   ]
  },
  {
   "cell_type": "markdown",
   "id": "54574f35",
   "metadata": {},
   "source": [
    "**Ручная реализация**"
   ]
  },
  {
   "cell_type": "code",
   "execution_count": 21,
   "id": "8f3e95c0",
   "metadata": {},
   "outputs": [
    {
     "name": "stdout",
     "output_type": "stream",
     "text": [
      "<class 'pandas.core.series.Series'>\n",
      "Iteration 0, MSE = 591.8508720407665\n",
      "Iteration 1, MSE = 354.6504225435641\n",
      "Iteration 2, MSE = 224.37647524506534\n",
      "Iteration 3, MSE = 146.39711829753693\n",
      "Iteration 4, MSE = 98.89525096373842\n",
      "Iteration 5, MSE = 69.82832837854764\n",
      "Iteration 6, MSE = 51.99983407285017\n",
      "Iteration 7, MSE = 41.03916997474132\n",
      "Iteration 8, MSE = 34.28143983851535\n",
      "Iteration 9, MSE = 30.099080051121224\n",
      "Iteration 10, MSE = 27.496931074079985\n",
      "Iteration 20, MSE = 22.82190421630676\n",
      "Iteration 40, MSE = 22.23361185291942\n",
      "Iteration 60, MSE = 22.0534981262386\n",
      "Iteration 80, MSE = 21.97832989847073\n",
      "Iteration 100, MSE = 21.941158498070337\n",
      "Iteration 120, MSE = 21.921097130311054\n",
      "Iteration 140, MSE = 21.90985001722949\n",
      "Iteration 160, MSE = 21.903447179701438\n",
      "Iteration 180, MSE = 21.899780264514565\n",
      "Iteration 200, MSE = 21.89767535404171\n",
      "Iteration 220, MSE = 21.89646599819674\n",
      "Iteration 240, MSE = 21.89577093489501\n",
      "Iteration 260, MSE = 21.895371401995586\n",
      "Iteration 280, MSE = 21.895141732572792\n",
      "Iteration 300, MSE = 21.89500970564525\n",
      "Iteration 320, MSE = 21.894933808535896\n",
      "Iteration 340, MSE = 21.89489017812856\n",
      "Iteration 360, MSE = 21.89486509661093\n",
      "Iteration 380, MSE = 21.894850678161635\n",
      "Iteration 400, MSE = 21.894842389519805\n",
      "Iteration 420, MSE = 21.894837624680854\n",
      "Iteration 440, MSE = 21.894834885548057\n",
      "Iteration 460, MSE = 21.894833310920152\n",
      "Iteration 480, MSE = 21.894832405723747\n"
     ]
    },
    {
     "data": {
      "text/plain": [
       "'Mse: 21.894831905108546'"
      ]
     },
     "execution_count": 21,
     "metadata": {},
     "output_type": "execute_result"
    }
   ],
   "source": [
    "X_mean = X.mean() \n",
    "X_std = X.std() \n",
    "X_norm = (X - X_mean) / X_std \n",
    "\n",
    "X_norm['w_0'] = 1\n",
    "y=df[\"MEDV\"]\n",
    "weights = [rnd.uniform(-0.01, 0.01) for _ in range(X_norm.shape[1])]\n",
    "print(type(y))\n",
    "def mse(y,y_pred):\n",
    "    n=y.shape[0]\n",
    "    mse_sum=0\n",
    "    for i in range(n):\n",
    "        mse_sum+=(y.iloc[i]-y_pred[i])**2\n",
    "    mse_sum=mse_sum/n\n",
    "    return mse_sum\n",
    "\n",
    "\n",
    "def predict(X,w):\n",
    "    n=X.shape[0]\n",
    "    m=len(w)\n",
    "    y_pred_arr=[]\n",
    "    for i in range(0,n):\n",
    "        y_pred_itter=0\n",
    "        for j in range(0,m):\n",
    "            y_pred_itter+=X.iloc[i,j]*w[j]\n",
    "        y_pred_arr.append(y_pred_itter)\n",
    "    return y_pred_arr\n",
    "\n",
    "def gradient(X,w,y,y_pred):\n",
    "    n=len(w)\n",
    "    col_len=X.shape[1]\n",
    "    row_len=X.shape[0]\n",
    "    y_len=len(y)\n",
    "    grad=[0]*n\n",
    "    for j in range(0,col_len):\n",
    "        for i in range(0,row_len):\n",
    "            grad[j]-=2*(y.iloc[i]-y_pred[i])*X.iloc[i,j]\n",
    "\n",
    "    for j in range(n):\n",
    "        grad[j] = grad[j] / n\n",
    "    return grad \n",
    "\n",
    "\n",
    "max_itter=500\n",
    "learning_rate=0.003\n",
    "len_w=len(weights)\n",
    "\n",
    "lst=[0,1,2,3,4,5,6,7,8,9,10]\n",
    "for i in range(0,max_itter):\n",
    "    y_pred=predict(X_norm,weights)\n",
    "    mse_itter=mse(y,y_pred)\n",
    "    if i in lst or i%20==0:\n",
    "        print(f\"Iteration {i}, MSE = {mse_itter}\")\n",
    "    \n",
    "    grad=gradient(X_norm,weights,y,y_pred)\n",
    "    for j in range(0,len_w):\n",
    "        weights[j]-=grad[j]*learning_rate\n",
    "mse_final=mse_itter\n",
    "(f'Финальные веса :{weights}')\n",
    "(f'Mse: {mse_final}')\n"
   ]
  },
  {
   "cell_type": "code",
   "execution_count": null,
   "id": "5c8148ca",
   "metadata": {},
   "outputs": [],
   "source": []
  }
 ],
 "metadata": {
  "kernelspec": {
   "display_name": "ML_TMS_test",
   "language": "python",
   "name": "python3"
  },
  "language_info": {
   "codemirror_mode": {
    "name": "ipython",
    "version": 3
   },
   "file_extension": ".py",
   "mimetype": "text/x-python",
   "name": "python",
   "nbconvert_exporter": "python",
   "pygments_lexer": "ipython3",
   "version": "3.13.5"
  }
 },
 "nbformat": 4,
 "nbformat_minor": 5
}
