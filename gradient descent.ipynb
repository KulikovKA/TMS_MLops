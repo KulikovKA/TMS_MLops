{
 "cells": [
  {
   "cell_type": "code",
   "execution_count": 98,
   "id": "3dba9158",
   "metadata": {},
   "outputs": [],
   "source": [
    "import pandas as pd\n",
    "from sklearn.linear_model import LinearRegression\n",
    "from sklearn.metrics import mean_squared_error\n",
    "import random as rnd"
   ]
  },
  {
   "cell_type": "code",
   "execution_count": 99,
   "id": "81c33417",
   "metadata": {},
   "outputs": [],
   "source": [
    "column_names = ['CRIM', 'ZN', 'INDUS', 'CHAS', 'NOX', 'RM', 'AGE', 'DIS', 'RAD', 'TAX', 'PTRATIO', 'B', 'LSTAT', 'MEDV']\n",
    "df=pd.read_csv(\"C:\\\\Users\\\\kiril\\\\Downloads\\\\housing (1).csv\",header=None,delimiter=r\"\\s+\",names=column_names)\n",
    "X=df.drop(['MEDV'],axis=1)\n",
    "y=df[\"MEDV\"]"
   ]
  },
  {
   "cell_type": "code",
   "execution_count": 100,
   "id": "41e6e17d",
   "metadata": {},
   "outputs": [
    {
     "name": "stdout",
     "output_type": "stream",
     "text": [
      "R^20.7406426641094095\n",
      "Коэффиценты : [-1.08011358e-01  4.64204584e-02  2.05586264e-02  2.68673382e+00\n",
      " -1.77666112e+01  3.80986521e+00  6.92224640e-04 -1.47556685e+00\n",
      "  3.06049479e-01 -1.23345939e-02 -9.52747232e-01  9.31168327e-03\n",
      " -5.24758378e-01]\n",
      "MSE: 21.8948\n"
     ]
    }
   ],
   "source": [
    "reg=LinearRegression().fit(X,y)\n",
    "print(f\"R^2{reg.score(X,y)}\")\n",
    "print(f'Коэффиценты : {reg.coef_}')\n",
    "y_pred = reg.predict(X)\n",
    "mse = mean_squared_error(y, y_pred)\n",
    "print(f\"MSE: {mse:.4f}\")"
   ]
  },
  {
   "cell_type": "markdown",
   "id": "54574f35",
   "metadata": {},
   "source": [
    "**Ручная реализация**"
   ]
  },
  {
   "cell_type": "code",
   "execution_count": 101,
   "id": "8f3e95c0",
   "metadata": {},
   "outputs": [
    {
     "name": "stdout",
     "output_type": "stream",
     "text": [
      "Iteration 0, MSE = 591.5197722335695, R² = -6.006904551112921\n",
      "Iteration 1, MSE = 367.1975673737244, R² = -3.3496742235229826\n",
      "Iteration 2, MSE = 242.0025766569986, R² = -1.8666648780920405\n",
      "Iteration 3, MSE = 163.1293176868576, R² = -0.9323640766967412\n",
      "Iteration 4, MSE = 112.86491171610547, R² = -0.3369522046209237\n",
      "Iteration 5, MSE = 80.76283372538887, R² = 0.04331605847361064\n",
      "Iteration 6, MSE = 60.22903579054212, R² = 0.2865511436813769\n",
      "Iteration 7, MSE = 47.072739972186916, R² = 0.44239531554621947\n",
      "Iteration 8, MSE = 38.62619634694241, R² = 0.5424496632570682\n",
      "Iteration 9, MSE = 33.18933908477666, R² = 0.6068524806813655\n",
      "Iteration 10, MSE = 29.677764184987286, R² = 0.6484491800680977\n",
      "Iteration 20, MSE = 22.94505624712305, R² = 0.7282021217373191\n",
      "Iteration 30, MSE = 22.4943454665372, R² = 0.733541059788025\n",
      "Iteration 40, MSE = 22.28381407127995, R² = 0.7360349297494803\n",
      "Iteration 50, MSE = 22.160164240622013, R² = 0.7374996357523074\n",
      "Iteration 60, MSE = 22.082836327341305, R² = 0.7384156310121931\n",
      "Iteration 70, MSE = 22.03187089892692, R² = 0.7390193469132824\n",
      "Iteration 80, MSE = 21.99675794669611, R² = 0.7394352807777754\n",
      "Iteration 90, MSE = 21.9717026963777, R² = 0.7397320751635699\n",
      "Iteration 100, MSE = 21.953350357991994, R² = 0.73994946955915\n",
      "Iteration 110, MSE = 21.93965531553332, R² = 0.7401116955063385\n",
      "Iteration 120, MSE = 21.929304196855256, R² = 0.740234310681653\n",
      "Iteration 130, MSE = 21.921413097018778, R² = 0.7403277854663568\n",
      "Iteration 140, MSE = 21.915363169218722, R² = 0.7403994504700067\n",
      "Iteration 150, MSE = 21.91070758829121, R² = 0.7404545986032058\n",
      "Iteration 160, MSE = 21.907116342895385, R² = 0.7404971390471424\n",
      "Iteration 170, MSE = 21.904341778175734, R² = 0.7405300054213096\n",
      "Iteration 180, MSE = 21.90219600762638, R² = 0.7405554233534459\n",
      "Iteration 190, MSE = 21.900535446265987, R² = 0.7405750936933055\n",
      "Iteration 200, MSE = 21.89924983591632, R² = 0.7405903225147802\n",
      "\n",
      " Сошлись на итерации 206, MSE = 21.898622249929836\n",
      "\n",
      "Финальные метрики: MSE = 21.898622249929836, R^2 = 0.740597756645153\n",
      "Финальные веса (коэффиценты) : [np.float64(-0.9175444730635303), np.float64(1.0624909587332778), np.float64(0.0795608441409093), np.float64(0.6911806837920441), np.float64(-2.046093482869003), np.float64(2.6884296977598647), np.float64(0.00973126097120457), np.float64(-3.1101701647063855), np.float64(2.5096490307691783), np.float64(-1.9032147744948473), np.float64(-2.056497589580116), np.float64(0.8491247711921164), np.float64(-3.7413039144090705), np.float64(22.532806324110663)]\n"
     ]
    }
   ],
   "source": [
    "# Нормализация признаков \n",
    "X_mean = X.mean() # среднее\n",
    "X_std = X.std() # стандартное отклонение\n",
    "X_norm = (X - X_mean) / X_std # стандартизация\n",
    "\n",
    "X_norm['w_0'] = 1\n",
    "\n",
    "X_values = X_norm.values\n",
    "y_values = y.values\n",
    "\n",
    "weights = [rnd.uniform(-0.01, 0.01) for _ in range(X_norm.shape[1])]\n",
    "\n",
    "def predict(X_vals, weights):\n",
    "    predictions = []\n",
    "    for row in X_vals:\n",
    "        pred = 0.0\n",
    "        for j in range(len(weights)):\n",
    "            pred += weights[j] * row[j]\n",
    "        predictions.append(pred)\n",
    "    return predictions\n",
    "\n",
    "def MSE(y_vals, predictions):\n",
    "    n = len(predictions)\n",
    "    mse = 0.0\n",
    "    for i in range(n):\n",
    "        mse += (y_vals[i] - predictions[i]) ** 2\n",
    "    return mse / n\n",
    "\n",
    "def r2_score(y_vals, predictions):\n",
    "    n = len(y_vals)\n",
    "    y_mean = sum(y_vals) / n\n",
    "    sse = sum((y_vals[i] - predictions[i]) ** 2 for i in range(n))\n",
    "    sst = sum((y_vals[i] - y_mean) ** 2 for i in range(n))\n",
    "    return 1 - (sse / sst) if sst != 0 else 0.0\n",
    "\n",
    "def calculate_gradient(X_vals, y_vals, predictions, weights):\n",
    "    n_samples = len(y_vals)\n",
    "    n_features = len(weights)\n",
    "    grad = [0.0] * n_features\n",
    "    for j in range(n_features):\n",
    "        for i in range(n_samples):\n",
    "            grad[j] += -2 * (y_vals[i] - predictions[i]) * X_vals[i][j]\n",
    "        grad[j] /= n_samples\n",
    "    return grad\n",
    "\n",
    "learning_rate = 0.1 \n",
    "num_iterations = 10000\n",
    "tolerance = 1e-4\n",
    "\n",
    "prev_mse = 10.0**10\n",
    "for itter in range(num_iterations + 1):\n",
    "    predictions = predict(X_values, weights)\n",
    "    error = MSE(y_values, predictions)\n",
    "\n",
    "    # остановка, если сошлись\n",
    "    if abs(prev_mse - error) < tolerance and itter > 0:\n",
    "        print(f\"\\n Сошлись на итерации {itter}, MSE = {error}\")\n",
    "        break\n",
    "    prev_mse = error\n",
    "\n",
    "    if itter < 11:\n",
    "        score = r2_score(y_values, predictions)\n",
    "        print(f\"Iteration {itter}, MSE = {error}, R² = {score}\")\n",
    "    elif itter >= 11 and itter % 10 == 0:\n",
    "        score = r2_score(y_values, predictions)\n",
    "        print(f\"Iteration {itter}, MSE = {error}, R² = {score}\")\n",
    "\n",
    "    grad = calculate_gradient(X_values, y_values, predictions, weights)\n",
    "    for j in range(len(weights)):\n",
    "        weights[j] -= learning_rate * grad[j]\n",
    "\n",
    "final_predictions = predict(X_values, weights)\n",
    "final_mse = MSE(y_values, final_predictions)\n",
    "final_r2 = r2_score(y_values, final_predictions)\n",
    "print(f\"\\nФинальные метрики: MSE = {final_mse}, R^2 = {final_r2}\")\n",
    "print(f'Финальные веса (коэффиценты) : {weights}')"
   ]
  },
  {
   "cell_type": "code",
   "execution_count": null,
   "id": "5c8148ca",
   "metadata": {},
   "outputs": [],
   "source": []
  }
 ],
 "metadata": {
  "kernelspec": {
   "display_name": "ML_TMS_test",
   "language": "python",
   "name": "python3"
  },
  "language_info": {
   "codemirror_mode": {
    "name": "ipython",
    "version": 3
   },
   "file_extension": ".py",
   "mimetype": "text/x-python",
   "name": "python",
   "nbconvert_exporter": "python",
   "pygments_lexer": "ipython3",
   "version": "3.13.5"
  }
 },
 "nbformat": 4,
 "nbformat_minor": 5
}
