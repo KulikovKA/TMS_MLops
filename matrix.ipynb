{
 "cells": [
  {
   "cell_type": "code",
   "execution_count": 1,
   "id": "f1d6c966",
   "metadata": {},
   "outputs": [],
   "source": [
    "import numpy as np"
   ]
  },
  {
   "cell_type": "markdown",
   "id": "5ee0eaba",
   "metadata": {},
   "source": [
    "Решение 1-ого примера"
   ]
  },
  {
   "cell_type": "code",
   "execution_count": 21,
   "id": "e0963bf4",
   "metadata": {},
   "outputs": [
    {
     "name": "stdout",
     "output_type": "stream",
     "text": [
      "[[ 0  2  7]\n",
      " [ 9 -1 -1]\n",
      " [-9  2  8]] \n",
      "\n",
      "[[ -2  -2  -1]\n",
      " [ -5 -11   3]\n",
      " [ -5   0   2]] \n",
      "\n",
      "[[34 -1]\n",
      " [-8 23]\n",
      " [29 -9]] \n",
      "\n",
      "[[ 193 -100]\n",
      " [ -50   35]\n",
      " [  92  -61]]\n"
     ]
    }
   ],
   "source": [
    "A=np.matrix(([1,2,4],[7,5,-2],[-2,1,3]))\n",
    "B=np.matrix(([-1,0,3],[2,-6,1],[-7,1,5]))\n",
    "C=np.matrix(([-2,3],[4,0],[7,-1]))\n",
    "\n",
    "print(A+B,'\\n')\n",
    "print(B-A,'\\n')\n",
    "print(A*C,'\\n')\n",
    "print(A*B*C)"
   ]
  },
  {
   "cell_type": "code",
   "execution_count": 22,
   "id": "5774040c",
   "metadata": {},
   "outputs": [
    {
     "name": "stdout",
     "output_type": "stream",
     "text": [
      "[[ 1  5  8]\n",
      " [ 0  1 -4]\n",
      " [-1 -3  8]] \n",
      "\n",
      "[[ 1 -1  0]\n",
      " [14 -1  0]\n",
      " [-5 -1  2]] \n",
      "\n",
      "[[ -4  40]\n",
      " [ 23 -24]\n",
      " [ -9  21]] \n",
      "\n",
      "[[ -41   84]\n",
      " [  22 -308]\n",
      " [  17  139]]\n"
     ]
    }
   ],
   "source": [
    "A=np.matrix(([0,3,4],[-7,1,-2],[2,-1,3]))\n",
    "B=np.matrix(([1,2,4],[7,0,-2],[-3,-2,5]))\n",
    "C=np.matrix(([-3,2],[0,4],[-1,7]))\n",
    "\n",
    "print(A+B,'\\n')\n",
    "print(B-A,'\\n')\n",
    "print(A*C,'\\n')\n",
    "print(A*B*C)"
   ]
  },
  {
   "cell_type": "code",
   "execution_count": null,
   "id": "9c7e2741",
   "metadata": {},
   "outputs": [],
   "source": []
  }
 ],
 "metadata": {
  "kernelspec": {
   "display_name": "ML_TMS_test",
   "language": "python",
   "name": "python3"
  },
  "language_info": {
   "codemirror_mode": {
    "name": "ipython",
    "version": 3
   },
   "file_extension": ".py",
   "mimetype": "text/x-python",
   "name": "python",
   "nbconvert_exporter": "python",
   "pygments_lexer": "ipython3",
   "version": "3.13.5"
  }
 },
 "nbformat": 4,
 "nbformat_minor": 5
}
