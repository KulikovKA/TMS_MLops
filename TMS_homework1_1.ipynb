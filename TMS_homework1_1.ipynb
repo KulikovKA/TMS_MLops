{
 "cells": [
  {
   "cell_type": "code",
   "execution_count": 1,
   "id": "c4489ae5",
   "metadata": {},
   "outputs": [
    {
     "name": "stdout",
     "output_type": "stream",
     "text": [
      "[5, 4, 3, 2, 1]\n"
     ]
    }
   ],
   "source": [
    "def reverse(arr):\n",
    "    return arr[::-1]\n",
    "arr=[1,2,3,4,5]\n",
    "print(reverse(arr))"
   ]
  },
  {
   "cell_type": "code",
   "execution_count": 2,
   "id": "17362485",
   "metadata": {},
   "outputs": [
    {
     "name": "stdout",
     "output_type": "stream",
     "text": [
      "[5, 2, 3, 4, 1]\n"
     ]
    }
   ],
   "source": [
    "arr=[1,2,3,4,5]\n",
    "def reverse_elements(arr):\n",
    "    s=len(arr)\n",
    "    t=arr[0]\n",
    "    arr[0]=arr[-1]\n",
    "    arr[-1]=t\n",
    "    return arr\n",
    "print(reverse_elements(arr))"
   ]
  },
  {
   "cell_type": "code",
   "execution_count": 4,
   "id": "3c8d79a8",
   "metadata": {},
   "outputs": [
    {
     "name": "stdout",
     "output_type": "stream",
     "text": [
      "1.6\n"
     ]
    }
   ],
   "source": [
    "arr=[1,2,3,8,5]\n",
    "def useless(s):\n",
    "    return max(s)/len(s)\n",
    "print(useless(arr))"
   ]
  },
  {
   "cell_type": "code",
   "execution_count": null,
   "id": "5a1a953b",
   "metadata": {},
   "outputs": [
    {
     "name": "stdout",
     "output_type": "stream",
     "text": [
      "выхухоль\n",
      "8\n",
      "['крот____', 'белка___', 'выхухоль']\n"
     ]
    }
   ],
   "source": [
    "arr=['крот','белка','выхухоль']\n",
    "def all_eq(lst):\n",
    "    sub_max=max(lst,key=len)\n",
    "    lengt=len(sub_max)\n",
    "    for i in range(0,len(lst)):\n",
    "        if len(lst[i])!=lengt:\n",
    "            for j in range(len(lst[i]),lengt):\n",
    "                lst[i]+=\"_\"\n",
    "    return lst\n",
    "print(all_eq(arr))"
   ]
  },
  {
   "cell_type": "code",
   "execution_count": null,
   "id": "b6f5764c",
   "metadata": {},
   "outputs": [
    {
     "name": "stdout",
     "output_type": "stream",
     "text": [
      "64\n",
      "[10.0, 2.0]\n"
     ]
    }
   ],
   "source": [
    "def solver_of_quadratic_equations(a,b,c):\n",
    "    solution=[]\n",
    "    discriminant=b**2-4*a*c\n",
    "    root1=(-b+discriminant**0.5)/2*a\n",
    "    root2=(-b-discriminant**0.5)/2*a\n",
    "    solution.append(root1)\n",
    "    solution.append(root2)\n",
    "    return solution\n",
    "print(solver_of_quadratic_equations(1,-12,20))"
   ]
  },
  {
   "cell_type": "code",
   "execution_count": null,
   "id": "7b36953e",
   "metadata": {},
   "outputs": [
    {
     "name": "stdout",
     "output_type": "stream",
     "text": [
      "[3.0, -3.0, 1.7320508075688772, -1.7320508075688772]\n"
     ]
    }
   ],
   "source": [
    "\n",
    "def solver_of_replace_quadratic_equations(a,b,c,a_rep,c_rep):\n",
    "    solution=[]\n",
    "    discriminant=b**2-4*a*c\n",
    "    root1=(-b+discriminant**0.5)/2*a\n",
    "    root2=(-b-discriminant**0.5)/2*a\n",
    "\n",
    "    root1_replace=((-c_rep+root1)/a)**0.5\n",
    "    root2_replace=-((-c_rep+root1)/a)**0.5\n",
    "    root3_replace=((-c_rep+root2)/a)**0.5\n",
    "    root4_replace=-((-c_rep+root2)/a)**0.5\n",
    "\n",
    "    solution.append(root1_replace)\n",
    "    solution.append(root2_replace)\n",
    "    solution.append(root3_replace)\n",
    "    solution.append(root4_replace)\n",
    "    \n",
    "    return solution\n",
    "\n",
    "print(solver_of_replace_quadratic_equations(1,4,-5,1,-8))"
   ]
  },
  {
   "cell_type": "code",
   "execution_count": null,
   "id": "adb86225",
   "metadata": {},
   "outputs": [],
   "source": [
    "\n"
   ]
  }
 ],
 "metadata": {
  "kernelspec": {
   "display_name": "ML_TMS_test",
   "language": "python",
   "name": "python3"
  },
  "language_info": {
   "codemirror_mode": {
    "name": "ipython",
    "version": 3
   },
   "file_extension": ".py",
   "mimetype": "text/x-python",
   "name": "python",
   "nbconvert_exporter": "python",
   "pygments_lexer": "ipython3",
   "version": "3.13.5"
  }
 },
 "nbformat": 4,
 "nbformat_minor": 5
}
